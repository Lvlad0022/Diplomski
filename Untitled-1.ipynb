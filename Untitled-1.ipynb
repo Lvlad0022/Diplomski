{
 "cells": [
  {
   "cell_type": "code",
   "execution_count": 10,
   "id": "bb88acd9",
   "metadata": {},
   "outputs": [],
   "source": [
    "import pandas as pd\n",
    "import numpy as np\n",
    "import matplotlib as plt"
   ]
  },
  {
   "cell_type": "code",
   "execution_count": 14,
   "id": "31429463",
   "metadata": {},
   "outputs": [],
   "source": [
    "df = pd.read_csv(r\"C:\\Users\\lovro\\Desktop\\AIBG-9.0-master\\model_checkpoints\\save_simle_log.csv\")"
   ]
  },
  {
   "cell_type": "code",
   "execution_count": 15,
   "id": "b085f8ad",
   "metadata": {},
   "outputs": [
    {
     "data": {
      "text/html": [
       "<div>\n",
       "<style scoped>\n",
       "    .dataframe tbody tr th:only-of-type {\n",
       "        vertical-align: middle;\n",
       "    }\n",
       "\n",
       "    .dataframe tbody tr th {\n",
       "        vertical-align: top;\n",
       "    }\n",
       "\n",
       "    .dataframe thead th {\n",
       "        text-align: right;\n",
       "    }\n",
       "</style>\n",
       "<table border=\"1\" class=\"dataframe\">\n",
       "  <thead>\n",
       "    <tr style=\"text-align: right;\">\n",
       "      <th></th>\n",
       "      <th>game</th>\n",
       "      <th>vrijeme1</th>\n",
       "      <th>vrijeme2</th>\n",
       "      <th>sum_reward</th>\n",
       "      <th>avg_count</th>\n",
       "      <th>win_pct</th>\n",
       "      <th>loss_moving_avg</th>\n",
       "      <th>epsilon</th>\n",
       "      <th>learning_rate</th>\n",
       "      <th>num_moves</th>\n",
       "    </tr>\n",
       "  </thead>\n",
       "  <tbody>\n",
       "    <tr>\n",
       "      <th>0</th>\n",
       "      <td>0</td>\n",
       "      <td>0.246883</td>\n",
       "      <td>0.002381</td>\n",
       "      <td>-0.000104</td>\n",
       "      <td>0.520000</td>\n",
       "      <td>0.0</td>\n",
       "      <td>0.0</td>\n",
       "      <td>0.897887</td>\n",
       "      <td>0.0005</td>\n",
       "      <td>52</td>\n",
       "    </tr>\n",
       "    <tr>\n",
       "      <th>1</th>\n",
       "      <td>1</td>\n",
       "      <td>0.006875</td>\n",
       "      <td>0.001653</td>\n",
       "      <td>-0.000166</td>\n",
       "      <td>1.204800</td>\n",
       "      <td>0.0</td>\n",
       "      <td>0.0</td>\n",
       "      <td>0.895108</td>\n",
       "      <td>0.0005</td>\n",
       "      <td>69</td>\n",
       "    </tr>\n",
       "    <tr>\n",
       "      <th>2</th>\n",
       "      <td>2</td>\n",
       "      <td>0.004109</td>\n",
       "      <td>0.001188</td>\n",
       "      <td>-0.000267</td>\n",
       "      <td>1.732752</td>\n",
       "      <td>0.0</td>\n",
       "      <td>0.0</td>\n",
       "      <td>0.892918</td>\n",
       "      <td>0.0005</td>\n",
       "      <td>54</td>\n",
       "    </tr>\n",
       "    <tr>\n",
       "      <th>3</th>\n",
       "      <td>3</td>\n",
       "      <td>0.006957</td>\n",
       "      <td>0.002219</td>\n",
       "      <td>-0.000280</td>\n",
       "      <td>2.665424</td>\n",
       "      <td>0.0</td>\n",
       "      <td>0.0</td>\n",
       "      <td>0.889131</td>\n",
       "      <td>0.0005</td>\n",
       "      <td>95</td>\n",
       "    </tr>\n",
       "    <tr>\n",
       "      <th>4</th>\n",
       "      <td>4</td>\n",
       "      <td>0.007741</td>\n",
       "      <td>0.002945</td>\n",
       "      <td>-0.000324</td>\n",
       "      <td>3.378770</td>\n",
       "      <td>0.0</td>\n",
       "      <td>0.0</td>\n",
       "      <td>0.886157</td>\n",
       "      <td>0.0005</td>\n",
       "      <td>74</td>\n",
       "    </tr>\n",
       "  </tbody>\n",
       "</table>\n",
       "</div>"
      ],
      "text/plain": [
       "   game  vrijeme1  vrijeme2  sum_reward  avg_count  win_pct  loss_moving_avg  \\\n",
       "0     0  0.246883  0.002381   -0.000104   0.520000      0.0              0.0   \n",
       "1     1  0.006875  0.001653   -0.000166   1.204800      0.0              0.0   \n",
       "2     2  0.004109  0.001188   -0.000267   1.732752      0.0              0.0   \n",
       "3     3  0.006957  0.002219   -0.000280   2.665424      0.0              0.0   \n",
       "4     4  0.007741  0.002945   -0.000324   3.378770      0.0              0.0   \n",
       "\n",
       "    epsilon  learning_rate  num_moves  \n",
       "0  0.897887         0.0005         52  \n",
       "1  0.895108         0.0005         69  \n",
       "2  0.892918         0.0005         54  \n",
       "3  0.889131         0.0005         95  \n",
       "4  0.886157         0.0005         74  "
      ]
     },
     "execution_count": 15,
     "metadata": {},
     "output_type": "execute_result"
    }
   ],
   "source": [
    "df.head()"
   ]
  },
  {
   "cell_type": "code",
   "execution_count": 16,
   "id": "3f6812c0",
   "metadata": {},
   "outputs": [
    {
     "data": {
      "text/plain": [
       "<Axes: >"
      ]
     },
     "execution_count": 16,
     "metadata": {},
     "output_type": "execute_result"
    },
    {
     "data": {
      "image/png": "[encoded data removed]",
      "text/plain": [
       "<Figure size 640x480 with 1 Axes>"
      ]
     },
     "metadata": {},
     "output_type": "display_data"
    }
   ],
   "source": [
    "df[\"sum_reward\"].plot()"
   ]
  },
  {
   "cell_type": "code",
   "execution_count": 18,
   "id": "b2cf3b81",
   "metadata": {},
   "outputs": [
    {
     "data": {
      "text/plain": [
       "[3, 6, 2, 3]"
      ]
     },
     "execution_count": 18,
     "metadata": {},
     "output_type": "execute_result"
    }
   ],
   "source": [
    "[3,6]+[2,3]"
   ]
  }
 ],
 "metadata": {
  "kernelspec": {
   "display_name": "torch",
   "language": "python",
   "name": "python3"
  },
  "language_info": {
   "codemirror_mode": {
    "name": "ipython",
    "version": 3
   },
   "file_extension": ".py",
   "mimetype": "text/x-python",
   "name": "python",
   "nbconvert_exporter": "python",
   "pygments_lexer": "ipython3",
   "version": "3.8.20"
  }
 },
 "nbformat": 4,
 "nbformat_minor": 5
}
